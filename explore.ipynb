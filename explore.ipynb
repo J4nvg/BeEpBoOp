{
 "cells": [
  {
   "cell_type": "code",
   "id": "initial_id",
   "metadata": {
    "collapsed": true,
    "ExecuteTime": {
     "end_time": "2025-03-15T10:43:58.374414Z",
     "start_time": "2025-03-15T10:43:57.795796Z"
    }
   },
   "source": "import pandas as pd",
   "outputs": [],
   "execution_count": 2
  },
  {
   "metadata": {
    "ExecuteTime": {
     "end_time": "2025-03-15T10:43:58.485888Z",
     "start_time": "2025-03-15T10:43:58.380840Z"
    }
   },
   "cell_type": "code",
   "source": [
    "specs_raw = pd.read_csv(\"./data/hackaton_specs_raw.csv\",sep=';')\n",
    "products = pd.read_csv(\"./data/hackaton_products.csv\", sep=\";\")\n",
    "\n",
    "print(specs_raw.head())\n",
    "print(products.head())"
   ],
   "id": "5db5e8b8c7b71d36",
   "outputs": [
    {
     "name": "stdout",
     "output_type": "stream",
     "text": [
      "      sku               mainSpec                 spec     value\n",
      "0  246883                 Design        Kleur Product     Zwart\n",
      "1  246883  Eisen aan de omgeving   Schokbestendigheid    1500 G\n",
      "2  246883               Geheugen  Overdrachtssnelheid  6 Gbit/s\n",
      "3  246883      Gewicht en omvang              Gewicht   58 gram\n",
      "4  246883              Prestatie   Leessnelheid (max)  550 MB/s\n",
      "      sku                                        productName  brandId  \\\n",
      "0  238728                       Intel 480 GB - SATA - Intern       74   \n",
      "1  933239  Intel D7 P5520 U.2 1920 GB PCI Express 4.0 TLC...       74   \n",
      "2  933243  Intel D7 P5520 U.2 7680 GB PCI Express 4.0 TLC...       74   \n",
      "3  943316  Intel D7 P5620 U.2 6400 GB PCI Express 4.0 TLC...       74   \n",
      "4  904963           Intel Pro 5400s 2.5\" 180 GB SATA III TLC       74   \n",
      "\n",
      "   mainGroup  subGroup  \n",
      "0          1         1  \n",
      "1          1         1  \n",
      "2          1         1  \n",
      "3          1         1  \n",
      "4          1         1  \n"
     ]
    }
   ],
   "execution_count": 3
  },
  {
   "metadata": {
    "ExecuteTime": {
     "end_time": "2025-03-15T10:48:53.150374Z",
     "start_time": "2025-03-15T10:48:52.960152Z"
    }
   },
   "cell_type": "code",
   "source": [
    "products_specs = pd.merge(specs_raw, products, how='left', on='sku')\n",
    "brands = pd.read_csv(\"./data/hackaton_prodgroup.csv\", sep=';')\n",
    "\n",
    "products_specs_brands = pd.merge(\n",
    "    products_specs,\n",
    "    brands[['brandId', 'brandName']],\n",
    "    how='left',\n",
    "    on='brandId'\n",
    ")\n",
    "\n",
    "products_specs_brands.head()"
   ],
   "id": "c237300da45a5772",
   "outputs": [
    {
     "data": {
      "text/plain": [
       "      sku               mainSpec                 spec     value  \\\n",
       "0  246883                 Design        Kleur Product     Zwart   \n",
       "1  246883  Eisen aan de omgeving   Schokbestendigheid    1500 G   \n",
       "2  246883               Geheugen  Overdrachtssnelheid  6 Gbit/s   \n",
       "3  246883      Gewicht en omvang              Gewicht   58 gram   \n",
       "4  246883              Prestatie   Leessnelheid (max)  550 MB/s   \n",
       "\n",
       "                          productName  brandId  mainGroup  subGroup brandName  \n",
       "0  Samsung PM883 480 GB SATA III 2.5\"       20          1         1   Samsung  \n",
       "1  Samsung PM883 480 GB SATA III 2.5\"       20          1         1   Samsung  \n",
       "2  Samsung PM883 480 GB SATA III 2.5\"       20          1         1   Samsung  \n",
       "3  Samsung PM883 480 GB SATA III 2.5\"       20          1         1   Samsung  \n",
       "4  Samsung PM883 480 GB SATA III 2.5\"       20          1         1   Samsung  "
      ],
      "text/html": [
       "<div>\n",
       "<style scoped>\n",
       "    .dataframe tbody tr th:only-of-type {\n",
       "        vertical-align: middle;\n",
       "    }\n",
       "\n",
       "    .dataframe tbody tr th {\n",
       "        vertical-align: top;\n",
       "    }\n",
       "\n",
       "    .dataframe thead th {\n",
       "        text-align: right;\n",
       "    }\n",
       "</style>\n",
       "<table border=\"1\" class=\"dataframe\">\n",
       "  <thead>\n",
       "    <tr style=\"text-align: right;\">\n",
       "      <th></th>\n",
       "      <th>sku</th>\n",
       "      <th>mainSpec</th>\n",
       "      <th>spec</th>\n",
       "      <th>value</th>\n",
       "      <th>productName</th>\n",
       "      <th>brandId</th>\n",
       "      <th>mainGroup</th>\n",
       "      <th>subGroup</th>\n",
       "      <th>brandName</th>\n",
       "    </tr>\n",
       "  </thead>\n",
       "  <tbody>\n",
       "    <tr>\n",
       "      <th>0</th>\n",
       "      <td>246883</td>\n",
       "      <td>Design</td>\n",
       "      <td>Kleur Product</td>\n",
       "      <td>Zwart</td>\n",
       "      <td>Samsung PM883 480 GB SATA III 2.5\"</td>\n",
       "      <td>20</td>\n",
       "      <td>1</td>\n",
       "      <td>1</td>\n",
       "      <td>Samsung</td>\n",
       "    </tr>\n",
       "    <tr>\n",
       "      <th>1</th>\n",
       "      <td>246883</td>\n",
       "      <td>Eisen aan de omgeving</td>\n",
       "      <td>Schokbestendigheid</td>\n",
       "      <td>1500 G</td>\n",
       "      <td>Samsung PM883 480 GB SATA III 2.5\"</td>\n",
       "      <td>20</td>\n",
       "      <td>1</td>\n",
       "      <td>1</td>\n",
       "      <td>Samsung</td>\n",
       "    </tr>\n",
       "    <tr>\n",
       "      <th>2</th>\n",
       "      <td>246883</td>\n",
       "      <td>Geheugen</td>\n",
       "      <td>Overdrachtssnelheid</td>\n",
       "      <td>6 Gbit/s</td>\n",
       "      <td>Samsung PM883 480 GB SATA III 2.5\"</td>\n",
       "      <td>20</td>\n",
       "      <td>1</td>\n",
       "      <td>1</td>\n",
       "      <td>Samsung</td>\n",
       "    </tr>\n",
       "    <tr>\n",
       "      <th>3</th>\n",
       "      <td>246883</td>\n",
       "      <td>Gewicht en omvang</td>\n",
       "      <td>Gewicht</td>\n",
       "      <td>58 gram</td>\n",
       "      <td>Samsung PM883 480 GB SATA III 2.5\"</td>\n",
       "      <td>20</td>\n",
       "      <td>1</td>\n",
       "      <td>1</td>\n",
       "      <td>Samsung</td>\n",
       "    </tr>\n",
       "    <tr>\n",
       "      <th>4</th>\n",
       "      <td>246883</td>\n",
       "      <td>Prestatie</td>\n",
       "      <td>Leessnelheid (max)</td>\n",
       "      <td>550 MB/s</td>\n",
       "      <td>Samsung PM883 480 GB SATA III 2.5\"</td>\n",
       "      <td>20</td>\n",
       "      <td>1</td>\n",
       "      <td>1</td>\n",
       "      <td>Samsung</td>\n",
       "    </tr>\n",
       "  </tbody>\n",
       "</table>\n",
       "</div>"
      ]
     },
     "execution_count": 5,
     "metadata": {},
     "output_type": "execute_result"
    }
   ],
   "execution_count": 5
  },
  {
   "metadata": {
    "ExecuteTime": {
     "end_time": "2025-03-15T10:49:35.833195Z",
     "start_time": "2025-03-15T10:49:34.038346Z"
    }
   },
   "cell_type": "code",
   "source": "products_specs_brands.to_csv('./data/merged.csv', index=False)",
   "id": "857382f56bf64206",
   "outputs": [],
   "execution_count": 6
  },
  {
   "metadata": {},
   "cell_type": "code",
   "outputs": [],
   "execution_count": null,
   "source": "",
   "id": "591a933977b838fc"
  }
 ],
 "metadata": {
  "kernelspec": {
   "display_name": "Python 3",
   "language": "python",
   "name": "python3"
  },
  "language_info": {
   "codemirror_mode": {
    "name": "ipython",
    "version": 2
   },
   "file_extension": ".py",
   "mimetype": "text/x-python",
   "name": "python",
   "nbconvert_exporter": "python",
   "pygments_lexer": "ipython2",
   "version": "2.7.6"
  }
 },
 "nbformat": 4,
 "nbformat_minor": 5
}
