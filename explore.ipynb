{
 "cells": [
  {
   "cell_type": "code",
   "id": "initial_id",
   "metadata": {
    "collapsed": true,
    "ExecuteTime": {
     "end_time": "2025-03-15T10:14:52.869602Z",
     "start_time": "2025-03-15T10:14:52.862733Z"
    }
   },
   "source": "import pandas as pd",
   "outputs": [],
   "execution_count": 4
  },
  {
   "metadata": {
    "ExecuteTime": {
     "end_time": "2025-03-15T10:18:12.854392Z",
     "start_time": "2025-03-15T10:18:12.766036Z"
    }
   },
   "cell_type": "code",
   "source": [
    "specs_raw = pd.read_csv(\"./data/hackaton_specs_raw.csv\",sep=';')\n",
    "products = pd.read_csv(\"./data/hackaton_products.csv\", sep=\";\")\n",
    "\n",
    "print(specs_raw.head())\n",
    "print(products.head())"
   ],
   "id": "5db5e8b8c7b71d36",
   "outputs": [
    {
     "name": "stdout",
     "output_type": "stream",
     "text": [
      "      sku               mainSpec                 spec     value\n",
      "0  246883                 Design        Kleur Product     Zwart\n",
      "1  246883  Eisen aan de omgeving   Schokbestendigheid    1500 G\n",
      "2  246883               Geheugen  Overdrachtssnelheid  6 Gbit/s\n",
      "3  246883      Gewicht en omvang              Gewicht   58 gram\n",
      "4  246883              Prestatie   Leessnelheid (max)  550 MB/s\n",
      "      sku                                        productName  brandId  \\\n",
      "0  238728                       Intel 480 GB - SATA - Intern       74   \n",
      "1  933239  Intel D7 P5520 U.2 1920 GB PCI Express 4.0 TLC...       74   \n",
      "2  933243  Intel D7 P5520 U.2 7680 GB PCI Express 4.0 TLC...       74   \n",
      "3  943316  Intel D7 P5620 U.2 6400 GB PCI Express 4.0 TLC...       74   \n",
      "4  904963           Intel Pro 5400s 2.5\" 180 GB SATA III TLC       74   \n",
      "\n",
      "   mainGroup  subGroup  \n",
      "0          1         1  \n",
      "1          1         1  \n",
      "2          1         1  \n",
      "3          1         1  \n",
      "4          1         1  \n"
     ]
    }
   ],
   "execution_count": 12
  },
  {
   "metadata": {
    "ExecuteTime": {
     "end_time": "2025-03-15T10:17:46.904854Z",
     "start_time": "2025-03-15T10:17:46.872066Z"
    }
   },
   "cell_type": "code",
   "source": "merged = pd.merge(specs_raw, products, how='left', on='sku')",
   "id": "c237300da45a5772",
   "outputs": [],
   "execution_count": 10
  },
  {
   "metadata": {
    "ExecuteTime": {
     "end_time": "2025-03-15T10:21:25.489311Z",
     "start_time": "2025-03-15T10:21:25.240664Z"
    }
   },
   "cell_type": "code",
   "source": "merged.to_csv('./data/merged.csv', index=False)",
   "id": "857382f56bf64206",
   "outputs": [],
   "execution_count": 14
  },
  {
   "metadata": {},
   "cell_type": "code",
   "outputs": [],
   "execution_count": null,
   "source": "",
   "id": "591a933977b838fc"
  }
 ],
 "metadata": {
  "kernelspec": {
   "display_name": "Python 3",
   "language": "python",
   "name": "python3"
  },
  "language_info": {
   "codemirror_mode": {
    "name": "ipython",
    "version": 2
   },
   "file_extension": ".py",
   "mimetype": "text/x-python",
   "name": "python",
   "nbconvert_exporter": "python",
   "pygments_lexer": "ipython2",
   "version": "2.7.6"
  }
 },
 "nbformat": 4,
 "nbformat_minor": 5
}
